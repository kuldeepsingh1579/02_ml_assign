{
 "cells": [
  {
   "cell_type": "markdown",
   "id": "39af50fa-fd5e-43b9-b9ba-e0876a29d6a1",
   "metadata": {},
   "source": [
    "# Question-No.1"
   ]
  },
  {
   "cell_type": "raw",
   "id": "9cd69b88-ff0d-49d3-b88a-0a44317fd7d4",
   "metadata": {},
   "source": [
    "Overfitting-- Overfitting occurs when a machine learning model learns the training data too well, capturing not only the underlying patterns but also the noise and random fluctuations present in the data. The model becomes too complex, fitting the training data almost perfectly.\n",
    "\n",
    "Consequences:-\n",
    "1-Excellent performance on the training data.\n",
    "2-Poor generalization to new, unseen data.\n",
    "3-Increased sensitivity to noise, outliers, or specific data points in the training set.\n",
    "4-High variance in model predictions.\n",
    "\n",
    "Underfitting-- Underfitting occurs when a machine learning model is too simple to capture the underlying patterns in the data. It fails to fit the training data adequately and often provides overly generalized results.\n",
    "\n",
    "Consequences:\n",
    "1-Mediocre or poor performance on both the training data and new, unseen data.\n",
    "2-Oversimplified model that doesn't account for the complexity of the data.\n",
    "3-High bias in model predictions."
   ]
  },
  {
   "cell_type": "markdown",
   "id": "f8e711da-36ea-4bd8-b1a0-7c554718f0e2",
   "metadata": {},
   "source": [
    "# Question-No.2"
   ]
  },
  {
   "cell_type": "raw",
   "id": "6a9c9fd4-8a67-4175-a103-97e72854e848",
   "metadata": {},
   "source": [
    "There are some common techniques to reduce overfitting  in machine learning-\n",
    "\n",
    "1- Cross-Validation: \n",
    "2- More Data\n",
    "3- Feature Selection.\n",
    "4- Simpler Model\n",
    "5- Early Stopping"
   ]
  },
  {
   "cell_type": "markdown",
   "id": "b4556f43-f2d4-4af1-aea7-0c510c868f4e",
   "metadata": {},
   "source": [
    "# Question-No.3"
   ]
  },
  {
   "cell_type": "raw",
   "id": "0082517f-a5ab-4b6f-833c-1eb6ee0e1765",
   "metadata": {},
   "source": [
    "Underfitting- in machine learning occurs when a model is too simple or lacks the capacity to capture the underlying patterns in the data. As a result, the model performs poorly on both the training data and new, unseen data. Underfit models often have high bias and low variance, and they oversimplify the relationships in the data, leading to inaccurate predictions.\n",
    "\n",
    "Scenarios where underfitting can occur in machine learning include:\n",
    "\n",
    "1- Simple Model Architecture\n",
    "\n",
    "2- Insufficient Data\n",
    "\n",
    "3- Inadequate Features\n",
    "\n",
    "4- Over-regularization\n",
    "\n",
    "5- Inappropriate Model Choice\n",
    "\n",
    "6- Early Stopping\n",
    "\n",
    "7- Ignoring Outliers\n",
    "\n",
    "8- Data Preprocessing Errors"
   ]
  },
  {
   "cell_type": "markdown",
   "id": "4568c4a5-92d4-4fac-a3a4-9bcf42ec0c85",
   "metadata": {},
   "source": [
    "# Question-No.4"
   ]
  },
  {
   "cell_type": "raw",
   "id": "b246013a-aff1-4649-8ce2-b490d4e381e8",
   "metadata": {},
   "source": [
    "Bias-Variance tradeoff-- The bias-variance tradeoff is a fundamental concept in machine learning that relates to a model's ability to generalize from the training data to new, unseen data. It represents a balance between two types of errors a model can make: bias and variance.\n",
    "\n",
    "Relationship between Bias and Variance:\n",
    "\n",
    "High Bias: High bias occurs when a model is too simple and makes strong assumptions about the data. In such cases, the model is likely to underfit the data, meaning it cannot capture the underlying patterns and exhibits systematic errors. High bias results in a relatively consistent but inaccurate model, as it consistently makes the same mistakes on different datasets.\n",
    "\n",
    "High Variance: High variance arises when a model is too complex and flexible. It fits the training data closely, including the noise or random fluctuations, leading to overfitting. High variance results in inconsistent errors, where the model's performance varies significantly across different datasets.\n",
    "\n",
    "Impact on Model Performance:\n",
    "\n",
    "Bias: High bias models have good training error but tend to perform poorly on new, unseen data (test data). They fail to generalize well, as they oversimplify the relationships in the data. This leads to low accuracy and underperformance.\n",
    "\n",
    "Variance: High variance models perform well on the training data but poorly on test data. They exhibit sensitivity to noise and outliers, which makes them unreliable for making predictions on new data. The model's performance can be highly variable."
   ]
  },
  {
   "cell_type": "markdown",
   "id": "5383e7d8-cc4e-4b67-b1e2-3c0b31b52669",
   "metadata": {},
   "source": [
    "# Question-No.5"
   ]
  },
  {
   "cell_type": "raw",
   "id": "0ccbbead-b577-4b3d-807f-a06de5bdf865",
   "metadata": {},
   "source": [
    "There are the common methods for detecting overfitting and underfitting in machine learning models-\n",
    "\n",
    "1- Visual Inspection\n",
    "2- Cross Validation\n",
    "3- Validation and Test Set Performance\n",
    "4- Laerning curves\n",
    "5- Regularization Analysis:\n",
    "\n",
    "To determine whether your model is overfitting or underfitting, consider the following signs:\n",
    "\n",
    "Overfitting:\n",
    "\n",
    "Training error significantly lower than validation or test error.\n",
    "Erratic or complex model predictions.\n",
    "Large gap between training and validation error.\n",
    "Model performs poorly on new, unseen data.\n",
    "Underfitting:\n",
    "\n",
    "Consistently high error on both training and validation or test data.\n",
    "Overly simple model predictions.\n",
    "Low accuracy or performance on training data."
   ]
  },
  {
   "cell_type": "markdown",
   "id": "cf77e92e-3025-4089-aa07-2b9b7cfebf2c",
   "metadata": {},
   "source": [
    "# Question-No.7"
   ]
  },
  {
   "cell_type": "raw",
   "id": "1dcb062f-0ef9-4834-8226-ddee0f7374d9",
   "metadata": {},
   "source": [
    "Regularization-- In machine learning is a set of techniques used to prevent overfitting in models. Overfitting occurs when a model is too complex and fits the training data too closely, including the noise, which leads to poor generalization on new, unseen data. Regularization methods add a penalty to the model's loss function to discourage overly complex or extreme parameter values, thus helping to control overfitting.\n",
    "\n",
    "Common regularization techniques in machine learning include:\n",
    "\n",
    "1- L1 Regularization (Lasso)\n",
    "2- L1 Regularization (Ridge)\n",
    "3- Elastic Net Regularization\n",
    "4- "
   ]
  }
 ],
 "metadata": {
  "kernelspec": {
   "display_name": "Python 3 (ipykernel)",
   "language": "python",
   "name": "python3"
  },
  "language_info": {
   "codemirror_mode": {
    "name": "ipython",
    "version": 3
   },
   "file_extension": ".py",
   "mimetype": "text/x-python",
   "name": "python",
   "nbconvert_exporter": "python",
   "pygments_lexer": "ipython3",
   "version": "3.10.8"
  }
 },
 "nbformat": 4,
 "nbformat_minor": 5
}
